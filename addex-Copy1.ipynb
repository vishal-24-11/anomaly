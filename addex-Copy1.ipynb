{
 "cells": [
  {
   "cell_type": "code",
   "execution_count": 7,
   "id": "f9f2af52",
   "metadata": {},
   "outputs": [],
   "source": [
    "import numpy as np\n",
    "import pandas as pd"
   ]
  },
  {
   "cell_type": "code",
   "execution_count": 8,
   "id": "d903312e",
   "metadata": {},
   "outputs": [],
   "source": [
    "data=pd.read_csv('ADX_Sample_data.csv')"
   ]
  },
  {
   "cell_type": "code",
   "execution_count": 10,
   "id": "537c7f26",
   "metadata": {},
   "outputs": [],
   "source": [
    "data['show_rate']=(data['ae_impressions']/data['ae_responses'])*100\n",
    "data['click_rate']=(data['ae_clicks']/data['ae_impressions'])*100"
   ]
  },
  {
   "cell_type": "markdown",
   "id": "cdf74c5c",
   "metadata": {},
   "source": [
    "# Analysis for app id 16243270"
   ]
  },
  {
   "cell_type": "code",
   "execution_count": 50,
   "id": "1380554e",
   "metadata": {},
   "outputs": [],
   "source": [
    "app_16243270=data[data['app_id']==16243270]\n"
   ]
  },
  {
   "cell_type": "code",
   "execution_count": 15,
   "id": "dd0a7caa",
   "metadata": {},
   "outputs": [
    {
     "name": "stderr",
     "output_type": "stream",
     "text": [
      "C:\\Users\\Sct\\AppData\\Local\\Temp\\ipykernel_12380\\1904542976.py:1: FutureWarning: The default value of numeric_only in DataFrameGroupBy.sum is deprecated. In a future version, numeric_only will default to False. Either specify numeric_only or select only columns which should be valid for the function.\n",
      "  app_16243270=app_16243270.groupby(['date']).sum()\n"
     ]
    }
   ],
   "source": [
    "app_16243270=app_16243270.groupby(['date']).sum()"
   ]
  },
  {
   "cell_type": "markdown",
   "id": "441cad29",
   "metadata": {},
   "source": [
    "# Outlier/anomaly can be any value beyond 1.5 IQR. So, calculate median and IQR and find the outliers for different columns."
   ]
  },
  {
   "cell_type": "markdown",
   "id": "97295c81",
   "metadata": {},
   "source": [
    "# **Analysis on Request**"
   ]
  },
  {
   "cell_type": "code",
   "execution_count": 51,
   "id": "66c906bb",
   "metadata": {},
   "outputs": [],
   "source": [
    "request=app_16243270.loc[:,['requests']].sort_values(by='requests')\n"
   ]
  },
  {
   "cell_type": "code",
   "execution_count": 18,
   "id": "ecb0fb26",
   "metadata": {},
   "outputs": [
    {
     "data": {
      "text/html": [
       "<div>\n",
       "<style scoped>\n",
       "    .dataframe tbody tr th:only-of-type {\n",
       "        vertical-align: middle;\n",
       "    }\n",
       "\n",
       "    .dataframe tbody tr th {\n",
       "        vertical-align: top;\n",
       "    }\n",
       "\n",
       "    .dataframe thead th {\n",
       "        text-align: right;\n",
       "    }\n",
       "</style>\n",
       "<table border=\"1\" class=\"dataframe\">\n",
       "  <thead>\n",
       "    <tr style=\"text-align: right;\">\n",
       "      <th></th>\n",
       "      <th>requests</th>\n",
       "    </tr>\n",
       "  </thead>\n",
       "  <tbody>\n",
       "    <tr>\n",
       "      <th>count</th>\n",
       "      <td>15.000000</td>\n",
       "    </tr>\n",
       "    <tr>\n",
       "      <th>mean</th>\n",
       "      <td>9605.266667</td>\n",
       "    </tr>\n",
       "    <tr>\n",
       "      <th>std</th>\n",
       "      <td>10650.653310</td>\n",
       "    </tr>\n",
       "    <tr>\n",
       "      <th>min</th>\n",
       "      <td>19.000000</td>\n",
       "    </tr>\n",
       "    <tr>\n",
       "      <th>25%</th>\n",
       "      <td>1795.000000</td>\n",
       "    </tr>\n",
       "    <tr>\n",
       "      <th>50%</th>\n",
       "      <td>6894.000000</td>\n",
       "    </tr>\n",
       "    <tr>\n",
       "      <th>75%</th>\n",
       "      <td>14386.500000</td>\n",
       "    </tr>\n",
       "    <tr>\n",
       "      <th>max</th>\n",
       "      <td>34277.000000</td>\n",
       "    </tr>\n",
       "  </tbody>\n",
       "</table>\n",
       "</div>"
      ],
      "text/plain": [
       "           requests\n",
       "count     15.000000\n",
       "mean    9605.266667\n",
       "std    10650.653310\n",
       "min       19.000000\n",
       "25%     1795.000000\n",
       "50%     6894.000000\n",
       "75%    14386.500000\n",
       "max    34277.000000"
      ]
     },
     "execution_count": 18,
     "metadata": {},
     "output_type": "execute_result"
    }
   ],
   "source": [
    "request.describe()"
   ]
  },
  {
   "cell_type": "code",
   "execution_count": 19,
   "id": "9551bb05",
   "metadata": {},
   "outputs": [
    {
     "data": {
      "text/plain": [
       "(1795.0, 14386.5)"
      ]
     },
     "execution_count": 19,
     "metadata": {},
     "output_type": "execute_result"
    }
   ],
   "source": [
    "Q1=request.requests.quantile(0.25)\n",
    "Q3=request.requests.quantile(0.75)\n",
    "(Q1,Q3)"
   ]
  },
  {
   "cell_type": "code",
   "execution_count": 20,
   "id": "ad812037",
   "metadata": {},
   "outputs": [
    {
     "data": {
      "text/plain": [
       "(-17092.25, 20682.25)"
      ]
     },
     "execution_count": 20,
     "metadata": {},
     "output_type": "execute_result"
    }
   ],
   "source": [
    "IQR=Q3-Q1\n",
    "lower_limit=Q1-1.5*IQR\n",
    "upper_limit=Q1+1.5*IQR\n",
    "(lower_limit,upper_limit)\n"
   ]
  },
  {
   "cell_type": "markdown",
   "id": "44e984cd",
   "metadata": {},
   "source": [
    "# **Outlier For Reqeust Column**"
   ]
  },
  {
   "cell_type": "code",
   "execution_count": 21,
   "id": "c178d4e2",
   "metadata": {},
   "outputs": [
    {
     "data": {
      "text/html": [
       "<div>\n",
       "<style scoped>\n",
       "    .dataframe tbody tr th:only-of-type {\n",
       "        vertical-align: middle;\n",
       "    }\n",
       "\n",
       "    .dataframe tbody tr th {\n",
       "        vertical-align: top;\n",
       "    }\n",
       "\n",
       "    .dataframe thead th {\n",
       "        text-align: right;\n",
       "    }\n",
       "</style>\n",
       "<table border=\"1\" class=\"dataframe\">\n",
       "  <thead>\n",
       "    <tr style=\"text-align: right;\">\n",
       "      <th></th>\n",
       "      <th>requests</th>\n",
       "    </tr>\n",
       "    <tr>\n",
       "      <th>date</th>\n",
       "      <th></th>\n",
       "    </tr>\n",
       "  </thead>\n",
       "  <tbody>\n",
       "    <tr>\n",
       "      <th>2022-10-29</th>\n",
       "      <td>28762</td>\n",
       "    </tr>\n",
       "    <tr>\n",
       "      <th>2022-10-28</th>\n",
       "      <td>34277</td>\n",
       "    </tr>\n",
       "  </tbody>\n",
       "</table>\n",
       "</div>"
      ],
      "text/plain": [
       "            requests\n",
       "date                \n",
       "2022-10-29     28762\n",
       "2022-10-28     34277"
      ]
     },
     "execution_count": 21,
     "metadata": {},
     "output_type": "execute_result"
    }
   ],
   "source": [
    "\n",
    "request[(request.requests<lower_limit)|(request.requests>upper_limit)]"
   ]
  },
  {
   "cell_type": "markdown",
   "id": "6c65cc38",
   "metadata": {},
   "source": [
    "# **Outlier For Response Column**"
   ]
  },
  {
   "cell_type": "code",
   "execution_count": 26,
   "id": "193042fa",
   "metadata": {},
   "outputs": [
    {
     "data": {
      "text/html": [
       "<div>\n",
       "<style scoped>\n",
       "    .dataframe tbody tr th:only-of-type {\n",
       "        vertical-align: middle;\n",
       "    }\n",
       "\n",
       "    .dataframe tbody tr th {\n",
       "        vertical-align: top;\n",
       "    }\n",
       "\n",
       "    .dataframe thead th {\n",
       "        text-align: right;\n",
       "    }\n",
       "</style>\n",
       "<table border=\"1\" class=\"dataframe\">\n",
       "  <thead>\n",
       "    <tr style=\"text-align: right;\">\n",
       "      <th></th>\n",
       "      <th>ae_responses</th>\n",
       "    </tr>\n",
       "    <tr>\n",
       "      <th>date</th>\n",
       "      <th></th>\n",
       "    </tr>\n",
       "  </thead>\n",
       "  <tbody>\n",
       "    <tr>\n",
       "      <th>2022-10-29</th>\n",
       "      <td>27897</td>\n",
       "    </tr>\n",
       "    <tr>\n",
       "      <th>2022-10-28</th>\n",
       "      <td>33539</td>\n",
       "    </tr>\n",
       "  </tbody>\n",
       "</table>\n",
       "</div>"
      ],
      "text/plain": [
       "            ae_responses\n",
       "date                    \n",
       "2022-10-29         27897\n",
       "2022-10-28         33539"
      ]
     },
     "execution_count": 26,
     "metadata": {},
     "output_type": "execute_result"
    }
   ],
   "source": [
    "response[(response.ae_responses<lower_limit)|(response.ae_responses>upper_limit)]"
   ]
  },
  {
   "cell_type": "markdown",
   "id": "fa4636ea",
   "metadata": {},
   "source": [
    "# **Outlier For Impressions Column**"
   ]
  },
  {
   "cell_type": "code",
   "execution_count": 31,
   "id": "512f3fa5",
   "metadata": {},
   "outputs": [
    {
     "data": {
      "text/html": [
       "<div>\n",
       "<style scoped>\n",
       "    .dataframe tbody tr th:only-of-type {\n",
       "        vertical-align: middle;\n",
       "    }\n",
       "\n",
       "    .dataframe tbody tr th {\n",
       "        vertical-align: top;\n",
       "    }\n",
       "\n",
       "    .dataframe thead th {\n",
       "        text-align: right;\n",
       "    }\n",
       "</style>\n",
       "<table border=\"1\" class=\"dataframe\">\n",
       "  <thead>\n",
       "    <tr style=\"text-align: right;\">\n",
       "      <th></th>\n",
       "      <th>ae_impressions</th>\n",
       "    </tr>\n",
       "    <tr>\n",
       "      <th>date</th>\n",
       "      <th></th>\n",
       "    </tr>\n",
       "  </thead>\n",
       "  <tbody>\n",
       "    <tr>\n",
       "      <th>2022-10-29</th>\n",
       "      <td>22469</td>\n",
       "    </tr>\n",
       "    <tr>\n",
       "      <th>2022-10-28</th>\n",
       "      <td>27288</td>\n",
       "    </tr>\n",
       "  </tbody>\n",
       "</table>\n",
       "</div>"
      ],
      "text/plain": [
       "            ae_impressions\n",
       "date                      \n",
       "2022-10-29           22469\n",
       "2022-10-28           27288"
      ]
     },
     "execution_count": 31,
     "metadata": {},
     "output_type": "execute_result"
    }
   ],
   "source": [
    "impressions[(impressions.ae_impressions<lower_limit)|(impressions.ae_impressions>upper_limit)]"
   ]
  },
  {
   "cell_type": "markdown",
   "id": "71b00865",
   "metadata": {},
   "source": [
    "# **Outlier For Clicks Column**"
   ]
  },
  {
   "cell_type": "code",
   "execution_count": 36,
   "id": "829ada80",
   "metadata": {},
   "outputs": [
    {
     "data": {
      "text/html": [
       "<div>\n",
       "<style scoped>\n",
       "    .dataframe tbody tr th:only-of-type {\n",
       "        vertical-align: middle;\n",
       "    }\n",
       "\n",
       "    .dataframe tbody tr th {\n",
       "        vertical-align: top;\n",
       "    }\n",
       "\n",
       "    .dataframe thead th {\n",
       "        text-align: right;\n",
       "    }\n",
       "</style>\n",
       "<table border=\"1\" class=\"dataframe\">\n",
       "  <thead>\n",
       "    <tr style=\"text-align: right;\">\n",
       "      <th></th>\n",
       "      <th>ae_clicks</th>\n",
       "    </tr>\n",
       "    <tr>\n",
       "      <th>date</th>\n",
       "      <th></th>\n",
       "    </tr>\n",
       "  </thead>\n",
       "  <tbody>\n",
       "    <tr>\n",
       "      <th>2022-10-21</th>\n",
       "      <td>560</td>\n",
       "    </tr>\n",
       "    <tr>\n",
       "      <th>2022-10-23</th>\n",
       "      <td>697</td>\n",
       "    </tr>\n",
       "    <tr>\n",
       "      <th>2022-10-22</th>\n",
       "      <td>996</td>\n",
       "    </tr>\n",
       "  </tbody>\n",
       "</table>\n",
       "</div>"
      ],
      "text/plain": [
       "            ae_clicks\n",
       "date                 \n",
       "2022-10-21        560\n",
       "2022-10-23        697\n",
       "2022-10-22        996"
      ]
     },
     "execution_count": 36,
     "metadata": {},
     "output_type": "execute_result"
    }
   ],
   "source": [
    "clicks[(clicks.ae_clicks<lower_limit)|(clicks.ae_clicks>upper_limit)]"
   ]
  },
  {
   "cell_type": "markdown",
   "id": "992aa0b0",
   "metadata": {},
   "source": [
    "# **Outlier For Revenue Column**"
   ]
  },
  {
   "cell_type": "code",
   "execution_count": 41,
   "id": "321c6c91",
   "metadata": {},
   "outputs": [
    {
     "data": {
      "text/html": [
       "<div>\n",
       "<style scoped>\n",
       "    .dataframe tbody tr th:only-of-type {\n",
       "        vertical-align: middle;\n",
       "    }\n",
       "\n",
       "    .dataframe tbody tr th {\n",
       "        vertical-align: top;\n",
       "    }\n",
       "\n",
       "    .dataframe thead th {\n",
       "        text-align: right;\n",
       "    }\n",
       "</style>\n",
       "<table border=\"1\" class=\"dataframe\">\n",
       "  <thead>\n",
       "    <tr style=\"text-align: right;\">\n",
       "      <th></th>\n",
       "      <th>ae_revenue</th>\n",
       "    </tr>\n",
       "    <tr>\n",
       "      <th>date</th>\n",
       "      <th></th>\n",
       "    </tr>\n",
       "  </thead>\n",
       "  <tbody>\n",
       "    <tr>\n",
       "      <th>2022-10-24</th>\n",
       "      <td>642.591738</td>\n",
       "    </tr>\n",
       "    <tr>\n",
       "      <th>2022-10-28</th>\n",
       "      <td>1194.678612</td>\n",
       "    </tr>\n",
       "  </tbody>\n",
       "</table>\n",
       "</div>"
      ],
      "text/plain": [
       "             ae_revenue\n",
       "date                   \n",
       "2022-10-24   642.591738\n",
       "2022-10-28  1194.678612"
      ]
     },
     "execution_count": 41,
     "metadata": {},
     "output_type": "execute_result"
    }
   ],
   "source": [
    "revenue[(revenue.ae_revenue<lower_limit)|(revenue.ae_revenue>upper_limit)]"
   ]
  },
  {
   "cell_type": "markdown",
   "id": "b0f65649",
   "metadata": {},
   "source": [
    "# **Outlier For Show Rate Column**\n"
   ]
  },
  {
   "cell_type": "code",
   "execution_count": 45,
   "id": "f01b13ca",
   "metadata": {},
   "outputs": [
    {
     "data": {
      "text/html": [
       "<div>\n",
       "<style scoped>\n",
       "    .dataframe tbody tr th:only-of-type {\n",
       "        vertical-align: middle;\n",
       "    }\n",
       "\n",
       "    .dataframe tbody tr th {\n",
       "        vertical-align: top;\n",
       "    }\n",
       "\n",
       "    .dataframe thead th {\n",
       "        text-align: right;\n",
       "    }\n",
       "</style>\n",
       "<table border=\"1\" class=\"dataframe\">\n",
       "  <thead>\n",
       "    <tr style=\"text-align: right;\">\n",
       "      <th></th>\n",
       "      <th>show_rate</th>\n",
       "    </tr>\n",
       "    <tr>\n",
       "      <th>date</th>\n",
       "      <th></th>\n",
       "    </tr>\n",
       "  </thead>\n",
       "  <tbody>\n",
       "    <tr>\n",
       "      <th>2022-10-29</th>\n",
       "      <td>6361.272280</td>\n",
       "    </tr>\n",
       "    <tr>\n",
       "      <th>2022-10-28</th>\n",
       "      <td>7867.361848</td>\n",
       "    </tr>\n",
       "  </tbody>\n",
       "</table>\n",
       "</div>"
      ],
      "text/plain": [
       "              show_rate\n",
       "date                   \n",
       "2022-10-29  6361.272280\n",
       "2022-10-28  7867.361848"
      ]
     },
     "execution_count": 45,
     "metadata": {},
     "output_type": "execute_result"
    }
   ],
   "source": [
    "show_rate[(show_rate.show_rate<lower_limit)|(show_rate.show_rate>upper_limit)]"
   ]
  },
  {
   "cell_type": "markdown",
   "id": "84a6a102",
   "metadata": {},
   "source": [
    "# **Outlier For click rate Column**"
   ]
  },
  {
   "cell_type": "code",
   "execution_count": 49,
   "id": "e35b6dcb",
   "metadata": {},
   "outputs": [
    {
     "data": {
      "text/html": [
       "<div>\n",
       "<style scoped>\n",
       "    .dataframe tbody tr th:only-of-type {\n",
       "        vertical-align: middle;\n",
       "    }\n",
       "\n",
       "    .dataframe tbody tr th {\n",
       "        vertical-align: top;\n",
       "    }\n",
       "\n",
       "    .dataframe thead th {\n",
       "        text-align: right;\n",
       "    }\n",
       "</style>\n",
       "<table border=\"1\" class=\"dataframe\">\n",
       "  <thead>\n",
       "    <tr style=\"text-align: right;\">\n",
       "      <th></th>\n",
       "      <th>click_rate</th>\n",
       "    </tr>\n",
       "    <tr>\n",
       "      <th>date</th>\n",
       "      <th></th>\n",
       "    </tr>\n",
       "  </thead>\n",
       "  <tbody>\n",
       "    <tr>\n",
       "      <th>2022-10-21</th>\n",
       "      <td>158.585088</td>\n",
       "    </tr>\n",
       "    <tr>\n",
       "      <th>2022-10-23</th>\n",
       "      <td>239.578005</td>\n",
       "    </tr>\n",
       "    <tr>\n",
       "      <th>2022-10-22</th>\n",
       "      <td>487.879310</td>\n",
       "    </tr>\n",
       "  </tbody>\n",
       "</table>\n",
       "</div>"
      ],
      "text/plain": [
       "            click_rate\n",
       "date                  \n",
       "2022-10-21  158.585088\n",
       "2022-10-23  239.578005\n",
       "2022-10-22  487.879310"
      ]
     },
     "execution_count": 49,
     "metadata": {},
     "output_type": "execute_result"
    }
   ],
   "source": [
    "\n",
    "click_rate[(click_rate.click_rate<lower_limit)|(click_rate.click_rate>upper_limit)]"
   ]
  },
  {
   "cell_type": "code",
   "execution_count": null,
   "id": "f136fc9c",
   "metadata": {},
   "outputs": [],
   "source": []
  }
 ],
 "metadata": {
  "kernelspec": {
   "display_name": "Python 3 (ipykernel)",
   "language": "python",
   "name": "python3"
  },
  "language_info": {
   "codemirror_mode": {
    "name": "ipython",
    "version": 3
   },
   "file_extension": ".py",
   "mimetype": "text/x-python",
   "name": "python",
   "nbconvert_exporter": "python",
   "pygments_lexer": "ipython3",
   "version": "3.11.1"
  }
 },
 "nbformat": 4,
 "nbformat_minor": 5
}
